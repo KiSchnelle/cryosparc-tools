{
 "cells": [
  {
   "cell_type": "markdown",
   "metadata": {},
   "source": [
    "# Re-center Particles\n",
    "\n",
    "How to update particle location centers from alignments in 2D Classification data. \n",
    "\n",
    "Before proceeding, please [ensure the `cryosparc-tools` module is installed]('../intro') in your Python environment. Also ensure cryoSPARC base ports +2 and +3 (`39002` and `39003` in this example) are available on this machine.\n",
    "\n",
    "First initialize the `CryoSPARC` client:"
   ]
  },
  {
   "cell_type": "code",
   "execution_count": null,
   "metadata": {},
   "outputs": [],
   "source": [
    "from cryosparc.tools import CryoSPARC\n",
    "\n",
    "cs = CryoSPARC(port=39000)\n",
    "assert cs.test_connection()"
   ]
  },
  {
   "cell_type": "markdown",
   "metadata": {},
   "source": [
    "This instance has a 2D Classification and Select 2D Classes job at `P70-J4` and `P70-J5`, respectively. We want to re-extract those selected particles with updated centers computed by the 2D Classification job.\n",
    "\n",
    "Retrieve the job handle and its particles output with the `load_output` method."
   ]
  },
  {
   "cell_type": "code",
   "execution_count": null,
   "metadata": {},
   "outputs": [],
   "source": [
    "project = cs.find_project(\"P2\")\n",
    "job = cs.find_job(\"P2\", \"J1077\")\n",
    "particles = job.load_output('particles_selected')"
   ]
  },
  {
   "cell_type": "markdown",
   "metadata": {},
   "source": [
    "Get a subset of relevant columns and display the first 10 rows as a `pandas` dataframe:"
   ]
  },
  {
   "cell_type": "code",
   "execution_count": null,
   "metadata": {},
   "outputs": [],
   "source": [
    "import pandas as pd\n",
    "\n",
    "first_10 = particles.slice(0, 10)\n",
    "first_10 = first_10.filter_prefixes(['alignments2D', 'location'])\n",
    "pd.DataFrame(first_10.rows())"
   ]
  },
  {
   "cell_type": "markdown",
   "metadata": {},
   "source": [
    "Each particle has [`location/center_x_frac`, `location/center_y_frac`] fields which contain the fractional distance of each particle from the top-left corner of the micrograph. By convention, the top-left corner of the micrograph is `[0, 0]` and the bottom right corner is `[1, 1]`.\n",
    "\n",
    "Use the shifts calculated by the 2D Classification job to modify the particle location. These are located at `alignments2D/shift` for each particle. These units are in pixels. Convert the original locations to pixels before doing the shift operation, and then back to fractions for increased floating point precision.\n",
    "\n",
    "Be sure to update the `mic_psize` to the pixel size of the imported micrographs."
   ]
  },
  {
   "cell_type": "code",
   "execution_count": null,
   "metadata": {},
   "outputs": [],
   "source": [
    "mic_psize = 0.6575  # import size of micrographs (may differ from particles if binned)\n",
    "shift_x = particles['alignments2D/psize_A'] * particles['alignments2D/shift'][:, 0] / mic_psize\n",
    "shift_y = particles['alignments2D/psize_A'] * particles['alignments2D/shift'][:, 1] / mic_psize"
   ]
  },
  {
   "cell_type": "markdown",
   "metadata": {},
   "source": [
    "Let's plot these particles onto our of micrographs. First download the micrograph of one of the particles."
   ]
  },
  {
   "cell_type": "code",
   "execution_count": null,
   "metadata": {},
   "outputs": [],
   "source": [
    "mic_path = particles[\"location/micrograph_path\"][0]\n",
    "header, mic = project.download_mrc(mic_path)"
   ]
  },
  {
   "cell_type": "markdown",
   "metadata": {},
   "source": [
    "Downsample and add a low-pass filter with cryoSPARC's included utilities.\n",
    "\n",
    "Use `matplotlib` overlay the previous and new particle locations. These are shown in yellow and blue below, respectively."
   ]
  },
  {
   "cell_type": "code",
   "execution_count": null,
   "metadata": {},
   "outputs": [],
   "source": [
    "from cryosparc.util import downsample, lowpass\n",
    "import matplotlib.pyplot as plt\n",
    "import numpy as np\n",
    "\n",
    "binned = downsample(mic, factor=4)\n",
    "lowpassed = lowpass(binned, psize=mic_psize, amount=20, order=0.7)\n",
    "\n",
    "vmin = np.percentile(lowpassed, 1)\n",
    "vmax = np.percentile(lowpassed, 99)\n",
    "fig, ax = plt.subplots(dpi=300)\n",
    "ax.axis(\"off\")\n",
    "ax.imshow(lowpassed, cmap=\"gray\", vmin=vmin, vmax=vmin)\n",
    "\n",
    "fig.tight_layout()\n",
    "fig.show()"
   ]
  },
  {
   "cell_type": "code",
   "execution_count": null,
   "metadata": {},
   "outputs": [],
   "source": [
    "# EXAMPLE CUSTOM JOB/RESULTS\n",
    "cs.upload_results_dataset( 'particles', particles, schema={\n",
    "    'parent': 'P2-J42', \n",
    "    'type': 'particles', \n",
    "    'parent': 'J42', \n",
    "    'fields': ['alignments2D']})\n",
    "\n",
    "job = CustomJob('import_result_group')\n",
    "job.add_output('particles', fields=['location', ('map_sharp', 'volume')])\n",
    "\n",
    "with job.run():\n",
    "    job.set_output('particles', particles)\n",
    "\n",
    "\n"
   ]
  }
 ],
 "metadata": {
  "kernelspec": {
   "display_name": "Python 3 (ipykernel)",
   "language": "python",
   "name": "python3"
  },
  "language_info": {
   "codemirror_mode": {
    "name": "ipython",
    "version": 3
   },
   "file_extension": ".py",
   "mimetype": "text/x-python",
   "name": "python",
   "nbconvert_exporter": "python",
   "pygments_lexer": "ipython3",
   "version": "3.9.5"
  },
  "vscode": {
   "interpreter": {
    "hash": "06e734132f986768eb7da941553aa8edd8d3ea0a7f1ca93d0fb9a1c9ec5d6566"
   }
  }
 },
 "nbformat": 4,
 "nbformat_minor": 2
}
