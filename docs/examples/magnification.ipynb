version https://git-lfs.github.com/spec/v1
oid sha256:395fa8ae613caf0d10c8eeeaede2175de5a2c826c0383d6c38b729f51ee19e2c
size 342952
